{
 "cells": [
  {
   "cell_type": "markdown",
   "metadata": {},
   "source": [
    "### Read `miRDD` to `miDF`"
   ]
  },
  {
   "cell_type": "code",
   "execution_count": 1,
   "metadata": {},
   "outputs": [
    {
     "name": "stdout",
     "output_type": "stream",
     "text": [
      "Starting download from file:///Users/datng2/pspipline.jar\n"
     ]
    },
    {
     "data": {
      "text/plain": [
       "Magic AddJar failed to execute with error: \n",
       "Can't assign requested address: Service 'sparkDriver' failed after 16 retries (on a random free port)! Consider explicitly setting the appropriate binding address for the service 'sparkDriver' (for example spark.driver.bindAddress for SparkDriver) to the correct binding address."
      ]
     },
     "execution_count": 1,
     "metadata": {},
     "output_type": "execute_result"
    }
   ],
   "source": [
    "// Import extra dependency using Jar\n",
    "// Ref: https://toree.apache.org/docs/current/user/faq/\n",
    "%AddJar file:///Users/datng2/pspipline.jar"
   ]
  },
  {
   "cell_type": "code",
   "execution_count": 22,
   "metadata": {},
   "outputs": [],
   "source": [
    "import collection.JavaConverters._\n",
    "import java.net.URI\n",
    "import org.apache.spark.api.java.JavaRDD\n",
    "import org.apache.hadoop.fs.{FileSystem, Path }\n",
    "import org.apache.hadoop.conf.Configuration\n",
    "import com.tetration.processanalytics.pipeline.io.MachineInfoBatchReaderWithProtoField\n",
    "// // For implicit conversions from RDDs to DataFrames\n",
    "// // https://stackoverflow.com/questions/44094108/not-able-to-import-spark-implicits-in-scalatest\n",
    "// val spark2 = spark\n",
    "// import spark2.implicits._\n",
    "\n",
    "// val sqlContext= new org.apache.spark.sql.SQLContext(sc)\n",
    "// import sqlContext.implicits._"
   ]
  },
  {
   "cell_type": "code",
   "execution_count": 23,
   "metadata": {},
   "outputs": [
    {
     "data": {
      "text/plain": [
       "localFS = org.apache.hadoop.fs.LocalFileSystem@131dc388\n",
       "miProtoReader = com.tetration.processanalytics.pipeline.io.MachineInfoBatchReaderWithProtoField@52ca6bf\n"
      ]
     },
     "metadata": {},
     "output_type": "display_data"
    },
    {
     "data": {
      "text/plain": [
       "com.tetration.processanalytics.pipeline.io.MachineInfoBatchReaderWithProtoField@52ca6bf"
      ]
     },
     "execution_count": 23,
     "metadata": {},
     "output_type": "execute_result"
    }
   ],
   "source": [
    "val localFS = FileSystem\n",
    "    .get(URI.create(\"file:///\"), sc.hadoopConfiguration)\n",
    "\n",
    "val miProtoReader = new MachineInfoBatchReaderWithProtoField(\n",
    "    sc, \n",
    "    sc.hadoopConfiguration,\n",
    "    localFS,\n",
    "    \"Users/datng2/data/machineinfo/galois\")"
   ]
  },
  {
   "cell_type": "code",
   "execution_count": 24,
   "metadata": {},
   "outputs": [
    {
     "data": {
      "text/plain": [
       "[]"
      ]
     },
     "execution_count": 24,
     "metadata": {},
     "output_type": "execute_result"
    }
   ],
   "source": [
    "miProtoReader\n",
    "    .read(Seq(\"201805091902\").asJava)\n",
    "    .take(3)  // display only the first 3 records"
   ]
  },
  {
   "cell_type": "code",
   "execution_count": 31,
   "metadata": {},
   "outputs": [
    {
     "data": {
      "text/plain": [
       "Array(DeprecatedRawLocalFileStatus{path=file:/Users/datng2/data/machineinfo/galois/201805091922; isDirectory=true; modification_time=1549489596000; access_time=0; owner=; group=; permission=rwxrwxrwx; isSymlink=false}, DeprecatedRawLocalFileStatus{path=file:/Users/datng2/data/machineinfo/galois/201805092101; isDirectory=true; modification_time=1549489597000; access_time=0; owner=; group=; permission=rwxrwxrwx; isSymlink=false}, DeprecatedRawLocalFileStatus{path=file:/Users/datng2/data/machineinfo/galois/201805091925; isDirectory=true; modification_time=1549489596000; access_time=0; owner=; group=; permission=rwxrwxrwx; isSymlink=false}, DeprecatedRawLocalFileStatus{path=file:/Users/datng2/data/machineinfo/galois/201805091913; isDirectory=t..."
      ]
     },
     "execution_count": 31,
     "metadata": {},
     "output_type": "execute_result"
    }
   ],
   "source": [
    "localFS\n",
    "    .listStatus(new Path(\"/Users/datng2/data/machineinfo/galois\"))"
   ]
  },
  {
   "cell_type": "code",
   "execution_count": null,
   "metadata": {},
   "outputs": [],
   "source": []
  }
 ],
 "metadata": {
  "kernelspec": {
   "display_name": "Apache Toree - Scala",
   "language": "scala",
   "name": "apache_toree_scala"
  },
  "language_info": {
   "codemirror_mode": "text/x-scala",
   "file_extension": ".scala",
   "mimetype": "text/x-scala",
   "name": "scala",
   "pygments_lexer": "scala",
   "version": "2.11.12"
  }
 },
 "nbformat": 4,
 "nbformat_minor": 2
}
