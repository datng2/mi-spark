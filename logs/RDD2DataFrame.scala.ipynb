{
 "cells": [
  {
   "cell_type": "code",
   "execution_count": 1,
   "metadata": {},
   "outputs": [],
   "source": [
    "import org.apache.spark.sql.Row\n",
    "import org.apache.spark.sql.types._"
   ]
  },
  {
   "cell_type": "code",
   "execution_count": 2,
   "metadata": {},
   "outputs": [
    {
     "data": {
      "text/plain": [
       "schema = StructType(StructField(host_name,StringType,true), StructField(ip_address,StringType,true), StructField(mac_address,StringType,true))\n",
       "rowRDD = ParallelCollectionRDD[0] at parallelize at <console>:38\n",
       "df = [host_name: string, ip_address: string ... 1 more field]\n"
      ]
     },
     "metadata": {},
     "output_type": "display_data"
    },
    {
     "data": {
      "text/plain": [
       "[host_name: string, ip_address: string ... 1 more field]"
      ]
     },
     "execution_count": 2,
     "metadata": {},
     "output_type": "execute_result"
    }
   ],
   "source": [
    "val schema = StructType(Array(\n",
    "    StructField(\"host_name\", StringType, true),\n",
    "    StructField(\"ip_address\",StringType, true),\n",
    "    StructField(\"mac_address\",StringType, true)))\n",
    "\n",
    "val rowRDD = sc.parallelize(Array(\n",
    "    Row(\"dat_pc1\", \"10.2.3.5\",\"asda4:1241:4124\"),\n",
    "    Row(\"dat_mac1\", \"10.2.3.4\",\"bas4:1241:4125\")))\n",
    "\n",
    "// Construct DataFrame from RDD\n",
    "val df = spark.createDataFrame(rowRDD, schema)"
   ]
  },
  {
   "cell_type": "code",
   "execution_count": 3,
   "metadata": {},
   "outputs": [
    {
     "name": "stdout",
     "output_type": "stream",
     "text": [
      "root\n",
      " |-- host_name: string (nullable = true)\n",
      " |-- ip_address: string (nullable = true)\n",
      " |-- mac_address: string (nullable = true)\n",
      "\n"
     ]
    }
   ],
   "source": [
    "df.printSchema()"
   ]
  },
  {
   "cell_type": "code",
   "execution_count": 4,
   "metadata": {},
   "outputs": [
    {
     "data": {
      "text/plain": [
       "Array([dat_pc1,10.2.3.5,asda4:1241:4124], [dat_mac1,10.2.3.4,bas4:1241:4125])"
      ]
     },
     "execution_count": 4,
     "metadata": {},
     "output_type": "execute_result"
    }
   ],
   "source": [
    "df.rdd.take(2)"
   ]
  },
  {
   "cell_type": "code",
   "execution_count": null,
   "metadata": {},
   "outputs": [],
   "source": []
  }
 ],
 "metadata": {
  "kernelspec": {
   "display_name": "Apache Toree - Scala",
   "language": "scala",
   "name": "apache_toree_scala"
  },
  "language_info": {
   "codemirror_mode": "text/x-scala",
   "file_extension": ".scala",
   "mimetype": "text/x-scala",
   "name": "scala",
   "pygments_lexer": "scala",
   "version": "2.11.12"
  }
 },
 "nbformat": 4,
 "nbformat_minor": 2
}
