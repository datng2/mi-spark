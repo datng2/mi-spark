{
 "cells": [
  {
   "cell_type": "markdown",
   "metadata": {},
   "source": [
    "# S-99: Ninety-Nine Scala Problems\n"
   ]
  },
  {
   "cell_type": "markdown",
   "metadata": {},
   "source": [
    "### P01 (*) Find the last element of a list.\n",
    "\n",
    "Example:\n",
    "```scala\n",
    "scala> last(List(1, 1, 2, 3, 5, 8))\n",
    "res0: Int = 8\n",
    "```"
   ]
  },
  {
   "cell_type": "code",
   "execution_count": 1,
   "metadata": {},
   "outputs": [
    {
     "data": {
      "text/plain": [
       "last: [A](x: List[A])A\n",
       "lastRecursive: [A](x: List[A])A\n"
      ]
     },
     "metadata": {},
     "output_type": "display_data"
    }
   ],
   "source": [
    "// O(1) .head and .last access\n",
    "// `A` or `AnyType` to allow any-type of list\n",
    "// One-liner\n",
    "def last[A](x: List[A]) = x.last\n",
    "def lastRecursive[A](x: List[A]): A = x match {\n",
    "    case head :: Nil  => head\n",
    "    case _    :: tail => lastRecursive(tail)\n",
    "    case _      => throw new NoSuchElementException // empty\n",
    "}"
   ]
  },
  {
   "cell_type": "code",
   "execution_count": 2,
   "metadata": {},
   "outputs": [
    {
     "name": "stdout",
     "output_type": "stream",
     "text": [
      "Given a list (1, 2, 3, 4)\n",
      "Non-recursive last: 4\n",
      "Recurisve Last: 4\n"
     ]
    }
   ],
   "source": [
    "println(\"Given a list (1, 2, 3, 4)\")\n",
    "println(\"Non-recursive last: \" + last(List(1, 2, 3, 4)))\n",
    "println(\"Recurisve Last: \"+ lastRecursive(1::2::3::4::Nil))"
   ]
  },
  {
   "cell_type": "markdown",
   "metadata": {},
   "source": [
    "### P02 (*) Find the last but one (penultimate) element of a list.\n",
    "\n",
    "Example:\n",
    "```scala\n",
    "scala> penultimate(List(1, 1, 2, 3, 5, 8))\n",
    "res0: Int = 5\n",
    "```"
   ]
  },
  {
   "cell_type": "code",
   "execution_count": 3,
   "metadata": {},
   "outputs": [
    {
     "data": {
      "text/plain": [
       "penultimate: [A](list: List[A])A\n",
       "lastButOne: [A](list: List[A])A\n"
      ]
     },
     "metadata": {},
     "output_type": "display_data"
    },
    {
     "data": {
      "text/plain": [
       "5"
      ]
     },
     "execution_count": 3,
     "metadata": {},
     "output_type": "execute_result"
    }
   ],
   "source": [
    "// one-liner \n",
    "// init : select all element except the last\n",
    "def penultimate[A](list: List[A]): A = list.init.last\n",
    "\n",
    "// Functional\n",
    "def lastButOne[A](list:  List[A]): A = list match {\n",
    "    case secondLast :: last :: Nil => secondLast\n",
    "    case head :: tail              => lastButOne(tail)\n",
    "    case _                         => throw new NoSuchElementException\n",
    "}\n",
    "penultimate(List(1, 1, 2, 3, 5, 8))\n",
    "// lastButOne(List(1, 1, 2, 3, 5, 8)) // 5"
   ]
  },
  {
   "cell_type": "markdown",
   "metadata": {},
   "source": [
    "### P03 (*) Find the Kth element of a list.\n",
    "By convention, the first element in the list is element 0.\n",
    "Example:\n",
    "```scala\n",
    "scala> nth(2, List(1, 1, 2, 3, 5, 8))\n",
    "res0: Int = 2\n",
    "```"
   ]
  },
  {
   "cell_type": "code",
   "execution_count": 23,
   "metadata": {},
   "outputs": [
    {
     "data": {
      "text/plain": [
       "nthBuiltin: [A](n: Int, ls: List[A])A\n",
       "nth: [A](n: Int, l: List[A])A\n"
      ]
     },
     "metadata": {},
     "output_type": "display_data"
    }
   ],
   "source": [
    "// Built-in List API\n",
    "def nthBuiltin[A](n: Int, ls: List[A]): A = \n",
    "    if (n >= 0) ls(n)\n",
    "    else throw new NoSuchElementException\n",
    "\n",
    "// Functional\n",
    "def nth[A](n: Int, l: List[A]): A = (n, l) match {\n",
    "    case (0, head :: _) => head   // n == 0\n",
    "    case (n, _ :: tail) => nth(n-1, tail)\n",
    "    case (_, Nil)       => throw new NoSuchElementException\n",
    "}"
   ]
  },
  {
   "cell_type": "code",
   "execution_count": 25,
   "metadata": {},
   "outputs": [
    {
     "name": "stdout",
     "output_type": "stream",
     "text": [
      "nthBuiltin(3, List(1, 2, 3, 4)) = 4\n",
      "nth(3, List(1, 2, 3, 4)) = 4\n"
     ]
    }
   ],
   "source": [
    "print(\"nthBuiltin(3, List(1, 2, 3, 4)) = \")\n",
    "println(nthBuiltin(3, 1::2::3::4::Nil))\n",
    "\n",
    "print(\"nth(3, List(1, 2, 3, 4)) = \")\n",
    "println(nth(3, 1::2::3::4::Nil))"
   ]
  },
  {
   "cell_type": "markdown",
   "metadata": {},
   "source": [
    "### P05 (*) Reverse a list.\n",
    "\n",
    "Example:\n",
    "```scala\n",
    "scala> reverse(List(1, 1, 2, 3, 5, 8))\n",
    "res0: List[Int] = List(8, 5, 3, 2, 1, 1)\n",
    "```"
   ]
  },
  {
   "cell_type": "code",
   "execution_count": 2,
   "metadata": {},
   "outputs": [
    {
     "data": {
      "text/plain": [
       "reverse: [A](ls: List[A])List[A]\n",
       "functionalReverse: [A](ls: List[A])List[A]\n"
      ]
     },
     "metadata": {},
     "output_type": "display_data"
    }
   ],
   "source": [
    "def reverse[A](ls: List[A]): List[A] = ls match {\n",
    "    case (Nil)           => Nil\n",
    "    case (head :: tail)  => reverse(tail) ::: List(head)\n",
    "} \n",
    "// Pure functional\n",
    "def functionalReverse[A](ls: List[A]): List[A] =\n",
    "    ls.foldLeft(List[A]()) { (r, h) => h :: r}"
   ]
  },
  {
   "cell_type": "code",
   "execution_count": 3,
   "metadata": {},
   "outputs": [
    {
     "data": {
      "text/plain": [
       "List(8, 5, 3, 2, 1, 1)"
      ]
     },
     "execution_count": 3,
     "metadata": {},
     "output_type": "execute_result"
    }
   ],
   "source": [
    "reverse(List(1, 1, 2, 3, 5, 8))\n",
    "functionalReverse(List(1, 1, 2, 3, 5, 8))"
   ]
  },
  {
   "cell_type": "markdown",
   "metadata": {},
   "source": [
    "### P06 (*) Find out whether a list is a palindrome.\n",
    "Example:\n",
    "```scala\n",
    "scala> isPalindrome(List(1, 2, 3, 2, 1))\n",
    "res0: Boolean = true\n",
    "```"
   ]
  },
  {
   "cell_type": "code",
   "execution_count": 17,
   "metadata": {},
   "outputs": [
    {
     "data": {
      "text/plain": [
       "lastException: Throwable = null\n",
       "isPalindrome: [A](ls: List[A])Boolean\n"
      ]
     },
     "metadata": {},
     "output_type": "display_data"
    }
   ],
   "source": [
    "def isPalindrome[A](ls: List[A]): Boolean = {\n",
    "    ls.isEmpty || (ls.head == ls.last) && \n",
    "    isPalindrome(ls.tail.dropRight(1))\n",
    "}"
   ]
  },
  {
   "cell_type": "code",
   "execution_count": 27,
   "metadata": {},
   "outputs": [
    {
     "name": "stdout",
     "output_type": "stream",
     "text": [
      "Is (1, 2, 3, 2, 1) a palindrome ? true\n",
      "Is (1, 2, 2) a palindrome ? false\n",
      "Is (1) a palindrome ? true\n",
      "Is () a palindrome ? true\n"
     ]
    }
   ],
   "source": [
    "println(\"Is (1, 2, 3, 2, 1) a palindrome ? \" + isPalindrome(List(1, 2, 3, 2, 1)))\n",
    "println(\"Is (1, 2, 2) a palindrome ? \" + isPalindrome(List(1, 2, 2)))\n",
    "println(\"Is (1) a palindrome ? \" + isPalindrome(List(1)))\n",
    "println(\"Is () a palindrome ? \" + isPalindrome(List()))"
   ]
  },
  {
   "cell_type": "markdown",
   "metadata": {},
   "source": [
    "### P07 (**) Flatten a nested list structure.\n",
    "\n",
    "\n",
    "Example:\n",
    "\n",
    "```scala\n",
    "scala> flatten(List(List(1, 1), 2, List(3, List(5, 8))))\n",
    "res0: List[Any] = List(1, 1, 2, 3, 5, 8)\n",
    "```\n",
    "\n",
    "* What are differences between `map`, `flatMap` in Scala:\n",
    "http://www.brunton-spall.co.uk/post/2011/12/02/map-map-and-flatmap-in-scala/"
   ]
  },
  {
   "cell_type": "code",
   "execution_count": 11,
   "metadata": {},
   "outputs": [
    {
     "data": {
      "text/plain": [
       "flatten: (ls: List[Any])List[Any]\n"
      ]
     },
     "metadata": {},
     "output_type": "display_data"
    },
    {
     "data": {
      "text/plain": [
       "List(1, 1, 2, 3, 5, 8)"
      ]
     },
     "execution_count": 11,
     "metadata": {},
     "output_type": "execute_result"
    }
   ],
   "source": [
    "def flatten(ls: List[Any]): List[Any] = ls flatMap { // flatMap help here\n",
    "       case aList: List[_] => flatten(aList)\n",
    "       case element        => List(element)\n",
    "}\n",
    "\n",
    "flatten(List(List(1, 1), 2, List(3, List(5, 8))))"
   ]
  },
  {
   "cell_type": "markdown",
   "metadata": {},
   "source": [
    "### P08 (**) Eliminate consecutive duplicates of list elements.\n",
    "If a list contains repeated elements they should be replaced with a single copy of the element. The order of the elements should not be changed.\n",
    "Example:\n",
    "\n",
    "\n",
    "```scala\n",
    "scala> compress(List('a, 'a, 'a, 'a, 'b, 'c, 'c, 'a, 'a, 'd, 'e, 'e, 'e, 'e))\n",
    "res0: List[Symbol] = List('a, 'b, 'c, 'a, 'd, 'e)\n",
    "```\n",
    "\n",
    "* **`dropWhile`**:  removes the first element that match a predicate function. \n",
    "\n",
    "For example, if we dropWhile odd numbers from our list of numbers, 1 gets dropped (but not 3 which is “shielded” by 2).\n",
    "\n",
    "```scala\n",
    "numbers.dropWhile(_ % 2 != 0)\n",
    "res0: List[Int] = List(2, 3, 4, 5, 6, 7, 8, 9, 10)\n",
    "```"
   ]
  },
  {
   "cell_type": "code",
   "execution_count": 76,
   "metadata": {},
   "outputs": [
    {
     "data": {
      "text/plain": [
       "compress: [A](ls: List[A])List[A]\n",
       "compressFunctional: [A](ls: List[A])List[A]\n"
      ]
     },
     "metadata": {},
     "output_type": "display_data"
    }
   ],
   "source": [
    "def compress[A](ls: List[A]): List[A] = ls match {\n",
    "    case Nil          => Nil\n",
    "    case head :: tail => head :: compress(tail.dropWhile(_ == head))\n",
    "}\n",
    "\n",
    "// Tail recursive\n",
    "def compressFunctional[A](ls: List[A]): List[A] = {\n",
    "    val resultList = List[A]() // store the result \n",
    "    // foldLeft will return reversed version\n",
    "    ls.foldRight(resultList){ (currItem, resultList) => \n",
    "        if(resultList.isEmpty || resultList.head != currItem)\n",
    "            currItem :: resultList\n",
    "        else\n",
    "            resultList\n",
    "    }\n",
    "}"
   ]
  },
  {
   "cell_type": "code",
   "execution_count": 77,
   "metadata": {},
   "outputs": [
    {
     "data": {
      "text/plain": [
       "List('a, 'b, 'c, 'a, 'd, 'e)"
      ]
     },
     "execution_count": 77,
     "metadata": {},
     "output_type": "execute_result"
    }
   ],
   "source": [
    "compress(List('a, 'a, 'a, 'a, 'b, 'c, 'c, 'a, 'a, 'd, 'e, 'e, 'e, 'e))"
   ]
  },
  {
   "cell_type": "code",
   "execution_count": 78,
   "metadata": {},
   "outputs": [
    {
     "data": {
      "text/plain": [
       "List('a, 'b, 'c, 'a, 'd, 'e)"
      ]
     },
     "execution_count": 78,
     "metadata": {},
     "output_type": "execute_result"
    }
   ],
   "source": [
    "compressFunctional(List('a, 'a, 'a, 'a, 'b, 'c, 'c, 'a, 'a, 'd, 'e, 'e, 'e, 'e))"
   ]
  },
  {
   "cell_type": "markdown",
   "metadata": {},
   "source": [
    "###  P09 (**) Pack consecutive duplicates of list elements into sublists.\n",
    "If a list contains repeated elements they should be placed in separate sublists.\n",
    "Example:\n",
    "```scala\n",
    "scala> pack(List('a, 'a, 'a, 'a, 'b, 'c, 'c, 'a, 'a, 'd, 'e, 'e, 'e, 'e))\n",
    "res0: List[List[Symbol]] = List(List('a, 'a, 'a, 'a), List('b), List('c, 'c), List('a, 'a), List('d), List('e, 'e, 'e, 'e))\n",
    "```"
   ]
  },
  {
   "cell_type": "code",
   "execution_count": 2,
   "metadata": {},
   "outputs": [
    {
     "data": {
      "text/plain": [
       "pack: [A](ls: List[A])List[List[A]]\n"
      ]
     },
     "metadata": {},
     "output_type": "display_data"
    }
   ],
   "source": [
    "def pack[A](ls: List[A]): List[List[A]] = {\n",
    "    if (ls.isEmpty) List(List())\n",
    "    else {\n",
    "        val (packed, next) = ls span {_ == ls.head}\n",
    "        if  (next == Nil)\n",
    "            List(packed)\n",
    "        else\n",
    "            packed :: pack(next)\n",
    "    }\n",
    "}"
   ]
  },
  {
   "cell_type": "code",
   "execution_count": 3,
   "metadata": {},
   "outputs": [
    {
     "data": {
      "text/plain": [
       "List(List('a, 'a, 'a, 'a), List('b), List('c, 'c), List('a, 'a), List('d), List('e, 'e, 'e, 'e))"
      ]
     },
     "execution_count": 3,
     "metadata": {},
     "output_type": "execute_result"
    }
   ],
   "source": [
    "pack(List('a, 'a, 'a, 'a, 'b, 'c, 'c, 'a, 'a, 'd, 'e, 'e, 'e, 'e))"
   ]
  },
  {
   "cell_type": "markdown",
   "metadata": {},
   "source": [
    "### P10 (*) Run-length encoding of a list.\n",
    "Use the result of problem P09 to implement the so-called run-length encoding data compression method. Consecutive duplicates of elements are encoded as tuples (N, E) where N is the number of duplicates of the element E.\n",
    "Example:\n",
    "\n",
    "```\n",
    "scala> encode(List('a, 'a, 'a, 'a, 'b, 'c, 'c, 'a, 'a, 'd, 'e, 'e, 'e, 'e))\n",
    "res0: List[(Int, Symbol)] = List((4,'a), (1,'b), (2,'c), (2,'a), (1,'d), (4,'e))\n",
    "```"
   ]
  },
  {
   "cell_type": "code",
   "execution_count": 4,
   "metadata": {},
   "outputs": [
    {
     "data": {
      "text/plain": [
       "encode: [A](ls: List[A])List[(Int, A)]\n"
      ]
     },
     "metadata": {},
     "output_type": "display_data"
    }
   ],
   "source": [
    "def encode[A](ls: List[A]): List[(Int, A)] = {\n",
    "    pack(ls).map(x => (x.length, x.head))\n",
    "}"
   ]
  },
  {
   "cell_type": "code",
   "execution_count": 5,
   "metadata": {},
   "outputs": [
    {
     "data": {
      "text/plain": [
       "List((4,'a), (1,'b), (2,'c), (2,'a), (1,'d), (4,'e))"
      ]
     },
     "execution_count": 5,
     "metadata": {},
     "output_type": "execute_result"
    }
   ],
   "source": [
    "encode(List('a, 'a, 'a, 'a, 'b, 'c, 'c, 'a, 'a, 'd, 'e, 'e, 'e, 'e))"
   ]
  },
  {
   "cell_type": "markdown",
   "metadata": {},
   "source": [
    "### P11 (*) Modified run-length encoding.\n",
    "Modify the result of problem P10 in such a way that if an element has no duplicates it is simply copied into the result list. Only elements with duplicates are transferred as (N, E) terms.\n",
    "Example:\n",
    "```scala\n",
    "scala> encodeModified(List('a, 'a, 'a, 'a, 'b, 'c, 'c, 'a, 'a, 'd, 'e, 'e, 'e, 'e))\n",
    "res0: List[Any] = List((4,'a), 'b, (2,'c), (2,'a), 'd, (4,'e))\n",
    "```\n",
    "\n",
    "**Type-safe, instead of `Any`** : `List[Either[A, (Int, A)]]`"
   ]
  },
  {
   "cell_type": "code",
   "execution_count": 16,
   "metadata": {},
   "outputs": [
    {
     "data": {
      "text/plain": [
       "encodeModified: [A](ls: List[A])List[Any]\n",
       "encodeModifiedTypeSafe: [A](ls: List[A])List[Either[A,(Int, A)]]\n"
      ]
     },
     "metadata": {},
     "output_type": "display_data"
    }
   ],
   "source": [
    "def encodeModified[A](ls: List[A]): List[Any] = {\n",
    "    pack(ls).map(x => if (x.length == 1) x.head else (x.length, x.head))\n",
    "}\n",
    "\n",
    "def encodeModifiedTypeSafe[A](ls: List[A]): List[Either[A, (Int, A)]] = {\n",
    "    pack(ls) map { x =>\n",
    "        if (x.length == 1) \n",
    "            Left(x.head)\n",
    "        else \n",
    "            Right((x.length, x.head))\n",
    "    }\n",
    "}"
   ]
  },
  {
   "cell_type": "code",
   "execution_count": 17,
   "metadata": {},
   "outputs": [
    {
     "data": {
      "text/plain": [
       "List((4,'a), 'b, (2,'c), (2,'a), 'd, (4,'e))"
      ]
     },
     "execution_count": 17,
     "metadata": {},
     "output_type": "execute_result"
    }
   ],
   "source": [
    "encodeModified(List('a, 'a, 'a, 'a, 'b, 'c, 'c, 'a, 'a, 'd, 'e, 'e, 'e, 'e))"
   ]
  },
  {
   "cell_type": "code",
   "execution_count": 18,
   "metadata": {},
   "outputs": [
    {
     "data": {
      "text/plain": [
       "List(Right((4,'a)), Left('b), Right((2,'c)), Right((2,'a)), Left('d), Right((4,'e)))"
      ]
     },
     "execution_count": 18,
     "metadata": {},
     "output_type": "execute_result"
    }
   ],
   "source": [
    "encodeModifiedTypeSafe(List('a, 'a, 'a, 'a, 'b, 'c, 'c, 'a, 'a, 'd, 'e, 'e, 'e, 'e))"
   ]
  },
  {
   "cell_type": "markdown",
   "metadata": {},
   "source": [
    "### P12 (**) Decode a run-length encoded list.\n",
    "Given a run-length code list generated as specified in problem P10, construct its uncompressed version.\n",
    "Example:\n",
    "```scala\n",
    "scala> decode(List((4, 'a), (1, 'b), (2, 'c), (2, 'a), (1, 'd), (4, 'e)))\n",
    "res0: List[Symbol] = List('a, 'a, 'a, 'a, 'b, 'c, 'c, 'a, 'a, 'd, 'e, 'e, 'e, 'e)\n",
    "```"
   ]
  },
  {
   "cell_type": "code",
   "execution_count": 31,
   "metadata": {},
   "outputs": [
    {
     "data": {
      "text/plain": [
       "decode: [A](ls: List[(Int, A)])List[A]\n"
      ]
     },
     "metadata": {},
     "output_type": "display_data"
    }
   ],
   "source": [
    "def decode[A](ls: List[(Int, A)]): List[A] = {\n",
    "    ls.flatMap {x => List.fill(x._1)(x._2)}\n",
    "}"
   ]
  },
  {
   "cell_type": "markdown",
   "metadata": {},
   "source": [
    "decode(List((4, 'a), (1, 'b), (2, 'c), (2, 'a), (1, 'd), (4, 'e)))"
   ]
  },
  {
   "cell_type": "markdown",
   "metadata": {},
   "source": [
    "### P13 (**) Run-length encoding of a list (direct solution).\n",
    "Implement the so-called run-length encoding data compression method directly. I.e. don't use other methods you've written (like P09's pack); do all the work directly.\n",
    "Example:\n",
    "```scala\n",
    "scala> encodeDirect(List('a, 'a, 'a, 'a, 'b, 'c, 'c, 'a, 'a, 'd, 'e, 'e, 'e, 'e))\n",
    "res0: List[(Int, Symbol)] = List((4,'a), (1,'b), (2,'c), (2,'a), (1,'d), (4,'e))\n",
    "```"
   ]
  },
  {
   "cell_type": "code",
   "execution_count": null,
   "metadata": {},
   "outputs": [],
   "source": [
    "def encodeDirect[A](ls: List[A]): List[(Int, A)] = {\n",
    "    \n",
    "}"
   ]
  },
  {
   "cell_type": "code",
   "execution_count": null,
   "metadata": {},
   "outputs": [],
   "source": []
  },
  {
   "cell_type": "markdown",
   "metadata": {},
   "source": [
    "### P14 (*) Duplicate the elements of a list.\n",
    "Example:\n",
    "```scala\n",
    "scala> duplicate(List('a, 'b, 'c, 'c, 'd))\n",
    "res0: List[Symbol] = List('a, 'a, 'b, 'b, 'c, 'c, 'c, 'c, 'd, 'd)\n",
    "P15\n",
    "```"
   ]
  },
  {
   "cell_type": "code",
   "execution_count": 34,
   "metadata": {},
   "outputs": [
    {
     "data": {
      "text/plain": [
       "duplicate: [A](ls: List[A])List[A]\n"
      ]
     },
     "metadata": {},
     "output_type": "display_data"
    }
   ],
   "source": [
    "def duplicate[A](ls: List[A]): List[A] = {\n",
    "    ls ::: ls\n",
    "}"
   ]
  },
  {
   "cell_type": "code",
   "execution_count": 35,
   "metadata": {},
   "outputs": [
    {
     "data": {
      "text/plain": [
       "List('a, 'b, 'c, 'c, 'd, 'a, 'b, 'c, 'c, 'd)"
      ]
     },
     "execution_count": 35,
     "metadata": {},
     "output_type": "execute_result"
    }
   ],
   "source": [
    "duplicate(List('a, 'b, 'c, 'c, 'd))"
   ]
  },
  {
   "cell_type": "code",
   "execution_count": null,
   "metadata": {},
   "outputs": [],
   "source": []
  }
 ],
 "metadata": {
  "kernelspec": {
   "display_name": "Apache Toree - Scala",
   "language": "scala",
   "name": "apache_toree_scala"
  },
  "language_info": {
   "codemirror_mode": "text/x-scala",
   "file_extension": ".scala",
   "mimetype": "text/x-scala",
   "name": "scala",
   "pygments_lexer": "scala",
   "version": "2.11.12"
  }
 },
 "nbformat": 4,
 "nbformat_minor": 2
}
