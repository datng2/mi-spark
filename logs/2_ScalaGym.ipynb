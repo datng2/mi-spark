{
 "cells": [
  {
   "cell_type": "markdown",
   "metadata": {},
   "source": [
    "## Definitions and Evaluations"
   ]
  },
  {
   "cell_type": "code",
   "execution_count": null,
   "metadata": {},
   "outputs": [],
   "source": []
  },
  {
   "cell_type": "code",
   "execution_count": 11,
   "metadata": {},
   "outputs": [
    {
     "name": "stdout",
     "output_type": "stream",
     "text": [
      "3 + 2 = 5\n",
      "Area of r = 3.0 is 28.26"
     ]
    },
    {
     "data": {
      "text/plain": [
       "randomvar = 2\n",
       "r2 = 3.4\n",
       "PI = 3.14\n",
       "defined object Someclass\n"
      ]
     },
     "metadata": {},
     "output_type": "display_data"
    },
    {
     "data": {
      "text/plain": [
       "add: (a: Int, b: Int)Int\n",
       "square: (x: Double)Double\n",
       "area: (radius: Double)Double\n"
      ]
     },
     "metadata": {},
     "output_type": "display_data"
    },
    {
     "data": {
      "text/plain": [
       "3.14"
      ]
     },
     "execution_count": 11,
     "metadata": {},
     "output_type": "execute_result"
    }
   ],
   "source": [
    "// variable\n",
    "val randomvar = 2\n",
    "\n",
    "// var with typehint\n",
    "val r2: Double = 3.4\n",
    "\n",
    "\n",
    "// Constants\n",
    "final val PI = 3.14\n",
    "\n",
    "// Define constant in class\n",
    "object Someclass {\n",
    "    val costantVal = 10\n",
    "}\n",
    "\n",
    "// function\n",
    "def add(a: Int, b: Int) = a + b\n",
    "def square(x: Double) = x * x\n",
    "\n",
    "// function with type-hint and multiple lines\n",
    "// simpler ver: def area(r: Double) = Constants.PI * square(r)\n",
    "def area(radius: Double): Double = {\n",
    "    val squared_r = square(radius)\n",
    "    Constants.PI * squared_r // returns here\n",
    "}\n",
    "\n",
    "\n",
    "println(\"3 + 2 = \" + add(3, 2))\n",
    "print(\"Area of r = 3.0 is \" + area(3.0))"
   ]
  },
  {
   "cell_type": "markdown",
   "metadata": {},
   "source": [
    "## Conditional Expressions"
   ]
  },
  {
   "cell_type": "code",
   "execution_count": 17,
   "metadata": {},
   "outputs": [
    {
     "data": {
      "text/plain": [
       "abs: (x: Double)Double\n"
      ]
     },
     "metadata": {},
     "output_type": "display_data"
    },
    {
     "name": "stdout",
     "output_type": "stream",
     "text": [
      "|-1| = 1.0\n",
      "|2 | = 2.0\n"
     ]
    }
   ],
   "source": [
    "def abs(x: Double): Double = if (x>=0) x else -x\n",
    "\n",
    "println(\"|-1| = \" + abs(-1))\n",
    "println(\"|2 | = \" + abs(2))\n"
   ]
  },
  {
   "cell_type": "code",
   "execution_count": 2,
   "metadata": {},
   "outputs": [
    {
     "data": {
      "text/plain": [
       "abs2: (x: Int)Int\n"
      ]
     },
     "metadata": {},
     "output_type": "display_data"
    },
    {
     "name": "stdout",
     "output_type": "stream",
     "text": [
      "Absolute ops:\n",
      "|-1| = 1\n",
      "|2 | = 2\n"
     ]
    }
   ],
   "source": [
    "def abs2(x: Int) = if (x>=0) x else -x\n",
    "\n",
    "println(\"Absolute ops:\")\n",
    "println(\"|-1| = \" + abs2(-1))\n",
    "println(\"|2 | = \" + abs2(2))\n"
   ]
  },
  {
   "cell_type": "code",
   "execution_count": null,
   "metadata": {},
   "outputs": [],
   "source": []
  }
 ],
 "metadata": {
  "kernelspec": {
   "display_name": "Apache Toree - Scala",
   "language": "scala",
   "name": "apache_toree_scala"
  },
  "language_info": {
   "codemirror_mode": "text/x-scala",
   "file_extension": ".scala",
   "mimetype": "text/x-scala",
   "name": "scala",
   "pygments_lexer": "scala",
   "version": "2.11.12"
  }
 },
 "nbformat": 4,
 "nbformat_minor": 2
}
