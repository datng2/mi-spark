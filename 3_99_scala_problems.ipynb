{
 "cells": [
  {
   "cell_type": "markdown",
   "metadata": {},
   "source": [
    "# S-99: Ninety-Nine Scala Problems\n",
    "\n",
    "These are an adaptation of the Ninety-Nine Prolog Problems written by Werner Hett at the Berne University of Applied Sciences in Berne, Switzerland. I (Phil Gold) have altered them to be more amenable to programming in Scala. Feedback is appreciated, particularly on anything marked TODO.\n",
    "\n",
    "The problems have different levels of difficulty:\n",
    "\n",
    "* Those marked with a single asterisk (*) are easy. If you have successfully solved the preceeding problems you should be able to solve them within a few (say 15) minutes. \n",
    "* Problems marked with two asterisks (**) are of intermediate difficulty. If you are a skilled Scala programmer it shouldn't take you more than 30-90 minutes to solve them. \n",
    "\n",
    "* Problems marked with three asterisks (***) are more difficult. You may need more time (i.e. a few hours or more) to find a good solution. \n",
    "\n",
    "The difficulties were all assigned for the Prolog problems, but the Scala versions seem to be of roughly similar difficulty.\n",
    "\n",
    "## Your goal:\n",
    "\n",
    "Should be to find the most elegant solution of the given problems. Efficiency is important, but clarity is even more crucial. Some of the (easy) problems can be trivially solved using built-in functions. However, in these cases, you learn more if you try to find your own solution.\n",
    "\n",
    "Solutions are available by clicking on the link at the beginning of the problem description.\n",
    "\n",
    "[I don't have example solutions to all of the problems yet. I'm working on getting them all done, but in the meantime, contributed solutions, particularly from seasoned Scala programmers would be appreciated. If you feel a particular problem can be solved in a better manner than I did, please let me know that, too. <PMG>]"
   ]
  },
  {
   "cell_type": "markdown",
   "metadata": {},
   "source": [
    "### P01 (*) Find the last element of a list.\n",
    "\n",
    "Example:\n",
    "```scala\n",
    "scala> last(List(1, 1, 2, 3, 5, 8))\n",
    "res0: Int = 8\n",
    "```"
   ]
  },
  {
   "cell_type": "code",
   "execution_count": 1,
   "metadata": {},
   "outputs": [
    {
     "data": {
      "text/plain": [
       "last: [A](x: List[A])A\n",
       "lastRecursive: [A](x: List[A])A\n"
      ]
     },
     "metadata": {},
     "output_type": "display_data"
    }
   ],
   "source": [
    "// O(1) .head and .last access\n",
    "// `A` or `AnyType` to allow any-type of list\n",
    "// One-liner\n",
    "def last[A](x: List[A]) = x.last\n",
    "def lastRecursive[A](x: List[A]): A = x match {\n",
    "    case head :: Nil  => head\n",
    "    case _    :: tail => lastRecursive(tail)\n",
    "    case _      => throw new NoSuchElementException // empty\n",
    "}"
   ]
  },
  {
   "cell_type": "code",
   "execution_count": 2,
   "metadata": {},
   "outputs": [
    {
     "name": "stdout",
     "output_type": "stream",
     "text": [
      "Given a list (1, 2, 3, 4)\n",
      "Non-recursive last: 4\n",
      "Recurisve Last: 4\n"
     ]
    }
   ],
   "source": [
    "println(\"Given a list (1, 2, 3, 4)\")\n",
    "println(\"Non-recursive last: \" + last(List(1, 2, 3, 4)))\n",
    "println(\"Recurisve Last: \"+ lastRecursive(1::2::3::4::Nil))"
   ]
  },
  {
   "cell_type": "markdown",
   "metadata": {},
   "source": [
    "### P02 (*) Find the last but one (penultimate) element of a list.\n",
    "\n",
    "Example:\n",
    "```scala\n",
    "scala> penultimate(List(1, 1, 2, 3, 5, 8))\n",
    "res0: Int = 5\n",
    "```"
   ]
  },
  {
   "cell_type": "code",
   "execution_count": 3,
   "metadata": {},
   "outputs": [
    {
     "data": {
      "text/plain": [
       "penultimate: [A](list: List[A])A\n",
       "lastButOne: [A](list: List[A])A\n"
      ]
     },
     "metadata": {},
     "output_type": "display_data"
    },
    {
     "data": {
      "text/plain": [
       "5"
      ]
     },
     "execution_count": 3,
     "metadata": {},
     "output_type": "execute_result"
    }
   ],
   "source": [
    "// one-liner \n",
    "// init : select all element except the last\n",
    "def penultimate[A](list: List[A]): A = list.init.last\n",
    "\n",
    "// Functional\n",
    "def lastButOne[A](list:  List[A]): A = list match {\n",
    "    case secondLast :: last :: Nil => secondLast\n",
    "    case head :: tail              => lastButOne(tail)\n",
    "    case _                         => throw new NoSuchElementException\n",
    "}\n",
    "penultimate(List(1, 1, 2, 3, 5, 8))\n",
    "// lastButOne(List(1, 1, 2, 3, 5, 8)) // 5"
   ]
  },
  {
   "cell_type": "markdown",
   "metadata": {},
   "source": [
    "### P03 (*) Find the Kth element of a list.\n",
    "By convention, the first element in the list is element 0.\n",
    "Example:\n",
    "```scala\n",
    "scala> nth(2, List(1, 1, 2, 3, 5, 8))\n",
    "res0: Int = 2\n",
    "```"
   ]
  },
  {
   "cell_type": "code",
   "execution_count": 23,
   "metadata": {},
   "outputs": [
    {
     "data": {
      "text/plain": [
       "nthBuiltin: [A](n: Int, ls: List[A])A\n",
       "nth: [A](n: Int, l: List[A])A\n"
      ]
     },
     "metadata": {},
     "output_type": "display_data"
    }
   ],
   "source": [
    "// Built-in List API\n",
    "def nthBuiltin[A](n: Int, ls: List[A]): A = \n",
    "    if (n >= 0) ls(n)\n",
    "    else throw new NoSuchElementException\n",
    "\n",
    "// Functional\n",
    "def nth[A](n: Int, l: List[A]): A = (n, l) match {\n",
    "    case (0, head :: _) => head   // n == 0\n",
    "    case (n, _ :: tail) => nth(n-1, tail)\n",
    "    case (_, Nil)       => throw new NoSuchElementException\n",
    "}"
   ]
  },
  {
   "cell_type": "code",
   "execution_count": 25,
   "metadata": {},
   "outputs": [
    {
     "name": "stdout",
     "output_type": "stream",
     "text": [
      "nthBuiltin(3, List(1, 2, 3, 4)) = 4\n",
      "nth(3, List(1, 2, 3, 4)) = 4\n"
     ]
    }
   ],
   "source": [
    "print(\"nthBuiltin(3, List(1, 2, 3, 4)) = \")\n",
    "println(nthBuiltin(3, 1::2::3::4::Nil))\n",
    "\n",
    "print(\"nth(3, List(1, 2, 3, 4)) = \")\n",
    "println(nth(3, 1::2::3::4::Nil))"
   ]
  },
  {
   "cell_type": "markdown",
   "metadata": {},
   "source": [
    "### P05 (*) Reverse a list.\n",
    "\n",
    "Example:\n",
    "```scala\n",
    "scala> reverse(List(1, 1, 2, 3, 5, 8))\n",
    "res0: List[Int] = List(8, 5, 3, 2, 1, 1)\n",
    "```"
   ]
  },
  {
   "cell_type": "code",
   "execution_count": 38,
   "metadata": {},
   "outputs": [
    {
     "data": {
      "text/plain": [
       "reverse: [A](ls: List[A])List[A]\n",
       "functionalReverse: [A](ls: List[A])List[A]\n"
      ]
     },
     "metadata": {},
     "output_type": "display_data"
    }
   ],
   "source": [
    "def reverse[A](ls: List[A]): List[A] = ls match {\n",
    "    case (Nil)           => Nil\n",
    "    case (head :: tail)  => reverse(tail) ::: List(head)\n",
    "} \n",
    "\n",
    "// Pure functional\n",
    "def functionalReverse[A](ls: List[A]): List[A] =\n",
    "    ls.foldLeft(List[A]()) { (r, h) => h :: r}"
   ]
  },
  {
   "cell_type": "code",
   "execution_count": 37,
   "metadata": {},
   "outputs": [
    {
     "data": {
      "text/plain": [
       "List(8, 5, 3, 2, 1, 1)"
      ]
     },
     "execution_count": 37,
     "metadata": {},
     "output_type": "execute_result"
    }
   ],
   "source": [
    "reverse(List(1, 1, 2, 3, 5, 8))"
   ]
  },
  {
   "cell_type": "code",
   "execution_count": 39,
   "metadata": {},
   "outputs": [
    {
     "data": {
      "text/plain": [
       "List(8, 5, 3, 2, 1, 1)"
      ]
     },
     "execution_count": 39,
     "metadata": {},
     "output_type": "execute_result"
    }
   ],
   "source": [
    "functionalReverse(List(1, 1, 2, 3, 5, 8))"
   ]
  },
  {
   "cell_type": "code",
   "execution_count": null,
   "metadata": {},
   "outputs": [],
   "source": []
  }
 ],
 "metadata": {
  "kernelspec": {
   "display_name": "Apache Toree - Scala",
   "language": "scala",
   "name": "apache_toree_scala"
  },
  "language_info": {
   "codemirror_mode": "text/x-scala",
   "file_extension": ".scala",
   "mimetype": "text/x-scala",
   "name": "scala",
   "pygments_lexer": "scala",
   "version": "2.11.12"
  }
 },
 "nbformat": 4,
 "nbformat_minor": 2
}
